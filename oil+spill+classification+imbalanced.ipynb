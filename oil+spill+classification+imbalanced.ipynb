{
 "cells": [
  {
   "cell_type": "markdown",
   "metadata": {},
   "source": [
    "# Oil Spill Classification"
   ]
  },
  {
   "cell_type": "markdown",
   "metadata": {},
   "source": [
    "Many imbalanced classification tasks require a skillful model that predicts a crisp class label,\n",
    "where both classes are equally important. An example of an imbalanced classification problem\n",
    "where a class label is required and both classes are equally important is the detection of oil spills\n",
    "or slicks in satellite images. The detection of a spill requires mobilizing an expensive response,\n",
    "and missing an event is equally expensive, causing damage to the environment.\n",
    "\n",
    "One way to evaluate imbalanced classification models that predict crisp labels is to calculate\n",
    "the separate accuracy on the positive class and the negative class, referred to as sensitivity and\n",
    "specificity. These two measures can then be averaged using the geometric mean, referred to as\n",
    "the G-mean, that is insensitive to the skewed class distribution and correctly reports on the\n",
    "skill of the model on both classes. In this tutorial, I have explored how to develop a model to\n",
    "predict the presence of an oil spill in satellite images and evaluate it using the G-mean metric."
   ]
  },
  {
   "cell_type": "markdown",
   "metadata": {},
   "source": [
    "### This notebook is divided into five parts; they are:"
   ]
  },
  {
   "cell_type": "markdown",
   "metadata": {},
   "source": [
    "1. [Oil Spill Dataset](#Oil-Spill-Dataset)\n",
    "2. [Explore the Dataset](#Explore-the-Dataset)\n",
    "3. [Model Test and Baseline Result](#Model-Test-and-Baseline-Result)\n",
    "4. [Evaluate Models](#Evaluate-Models)\n",
    "5. [Make Prediction on New Data](#Make-Prediction-on-New-Data)"
   ]
  },
  {
   "cell_type": "markdown",
   "metadata": {},
   "source": [
    "## Oil Spill Dataset"
   ]
  },
  {
   "cell_type": "markdown",
   "metadata": {},
   "source": [
    "In this project, we will use a standard imbalanced machine learning dataset referred to as the\n",
    "oil spill dataset, oil slicks dataset or simply oil. The dataset was introduced in the 1998 paper\n",
    "by Miroslav Kubat, et al. titled Machine Learning for the Detection of Oil Spills in Satellite\n",
    "Radar Images. The dataset is often credited to Robert Holte, a co-author of the paper. The\n",
    "dataset was developed by starting with satellite images of the ocean, some of which contain an\n",
    "oil spill and some that do not. Images were split into sections and processed using computer\n",
    "vision algorithms to provide a vector of features to describe the contents of the image section or\n",
    "patch."
   ]
  },
  {
   "cell_type": "markdown",
   "metadata": {},
   "source": [
    "In the task, a model is given a vector that describes the contents of a patch of a satellite\n",
    "image, then predicts whether the patch contains an oil spill or not, e.g. from the illegal or\n",
    "accidental dumping of oil in the ocean. There are 937 cases. Each case is comprised of 48\n",
    "numerical computer vision derived features, a patch number, and a class label."
   ]
  },
  {
   "cell_type": "markdown",
   "metadata": {},
   "source": [
    "A total of nine satellite images were processed into patches. Cases in the dataset are ordered\n",
    "by image and the \f",
    "rst column of the dataset represents the patch number for the image. This\n",
    "was provided for the purposes of estimating model performance per-image. In this case, we are\n",
    "not interested in the image or patch number and this first column can be removed. The normal\n",
    "case is no oil spill assigned the class label of 0, whereas an oil spill is indicated by a class label\n",
    "of 1. There are 896 cases for no oil spill and 41 cases of an oil spill.\n",
    "\n",
    "**Dataset**: https://raw.githubusercontent.com/jbrownlee/Datasets/master/oil-spill.csv"
   ]
  },
  {
   "cell_type": "markdown",
   "metadata": {},
   "source": [
    "## Explore the Dataset"
   ]
  },
  {
   "cell_type": "code",
   "execution_count": 1,
   "metadata": {},
   "outputs": [
    {
     "name": "stderr",
     "output_type": "stream",
     "text": [
      "Using TensorFlow backend.\n"
     ]
    }
   ],
   "source": [
    "# compare probabilistic model on the oil spill dataset\n",
    "from numpy import mean\n",
    "from numpy import std\n",
    "from pandas import read_csv\n",
    "from matplotlib import pyplot\n",
    "from sklearn.preprocessing import LabelEncoder\n",
    "from sklearn.model_selection import cross_val_score\n",
    "from sklearn.model_selection import RepeatedStratifiedKFold\n",
    "from sklearn.metrics import make_scorer\n",
    "from sklearn.linear_model import LogisticRegression\n",
    "from sklearn.discriminant_analysis import LinearDiscriminantAnalysis\n",
    "from sklearn.naive_bayes import GaussianNB\n",
    "from imblearn.metrics import geometric_mean_score\n",
    "from sklearn.pipeline import Pipeline\n",
    "from sklearn.preprocessing import StandardScaler"
   ]
  },
  {
   "cell_type": "code",
   "execution_count": 28,
   "metadata": {},
   "outputs": [],
   "source": [
    "from collections import Counter\n",
    "from sklearn.dummy import DummyClassifier"
   ]
  },
  {
   "cell_type": "code",
   "execution_count": 48,
   "metadata": {},
   "outputs": [],
   "source": [
    "from sklearn.pipeline import Pipeline\n",
    "from sklearn.preprocessing import StandardScaler\n",
    "from sklearn.preprocessing import MinMaxScaler\n",
    "from sklearn.preprocessing import PowerTransformer"
   ]
  },
  {
   "cell_type": "code",
   "execution_count": 65,
   "metadata": {},
   "outputs": [],
   "source": [
    "from imblearn.combine import SMOTEENN\n",
    "from imblearn.under_sampling import EditedNearestNeighbours\n",
    "from imblearn.pipeline import Pipeline"
   ]
  },
  {
   "cell_type": "code",
   "execution_count": 22,
   "metadata": {},
   "outputs": [],
   "source": [
    "# load the csv file as a data frame\n",
    "dataframe = read_csv(full_path, header=None)"
   ]
  },
  {
   "cell_type": "code",
   "execution_count": 12,
   "metadata": {},
   "outputs": [
    {
     "name": "stdout",
     "output_type": "stream",
     "text": [
      "(937, 47)\n"
     ]
    }
   ],
   "source": [
    "# summarize the shape of the dataset\n",
    "print(dataframe.shape)"
   ]
  },
  {
   "cell_type": "code",
   "execution_count": 25,
   "metadata": {},
   "outputs": [],
   "source": [
    "# summarize the class distribution\n",
    "target = dataframe.values[:,-1]"
   ]
  },
  {
   "cell_type": "code",
   "execution_count": 26,
   "metadata": {},
   "outputs": [
    {
     "name": "stdout",
     "output_type": "stream",
     "text": [
      "Class=1, Count=41, Percentage=4.376%\n",
      "Class=0, Count=896, Percentage=95.624%\n"
     ]
    }
   ],
   "source": [
    "counter = Counter(target)\n",
    "for k,v in counter.items():\n",
    "    per = v / len(target) * 100\n",
    "    print('Class=%d, Count=%d, Percentage=%.3f%%' % (k, v, per))"
   ]
  },
  {
   "cell_type": "code",
   "execution_count": 24,
   "metadata": {},
   "outputs": [
    {
     "data": {
      "image/png": "[encoded data removed]",
      "text/plain": [
       "<Figure size 432x288 with 56 Axes>"
      ]
     },
     "metadata": {
      "needs_background": "light"
     },
     "output_type": "display_data"
    }
   ],
   "source": [
    "# create a histogram plot of each variable\n",
    "ax = dataframe.hist()\n",
    "# disable axis labels\n",
    "for axis in ax.flatten():\n",
    "    axis.set_title('')\n",
    "    axis.set_xticklabels([])\n",
    "    axis.set_yticklabels([])\n",
    "pyplot.show()"
   ]
  },
  {
   "cell_type": "markdown",
   "metadata": {},
   "source": [
    "## Model Test and Baseline Result"
   ]
  },
  {
   "cell_type": "markdown",
   "metadata": {},
   "source": [
    "We will evaluate candidate models using repeated stratified k-fold cross-validation. The k-fold\n",
    "cross-validation procedure provides a good general estimate of model performance that is not too\n",
    "optimistically biased, at least compared to a single train-test split. We will use k=10, meaning\n",
    "each fold will contain about 937/10 or about 94 examples. Stratified means that each fold will\n",
    "contain the same mixture of examples by class, that is about 96% to 4% non-spill and spill.\n",
    "Repeated means that the evaluation process will be performed multiple times to help avoid \n",
    "fluke results and better capture the variance of the chosen model. We will use three repeats. This\n",
    "means a single model will be fit and evaluated 10 x 3 (30) times and the mean and standard\n",
    "deviation of these runs will be reported.\n",
    "\n",
    "This can be achieved using the RepeatedStratifiedKFold scikit-learn class. We are pre-\n",
    "dicting class labels of whether a satellite image patch contains a spill or not. There are many\n",
    "measures we could use, although the authors of the paper chose to report the sensitivity,\n",
    "specificity, and the geometric mean of the two scores, called the G-mean."
   ]
  },
  {
   "cell_type": "markdown",
   "metadata": {},
   "source": [
    "The sensitivity is a measure of the accuracy for the positive class and specificity\n",
    "is a measure of the accuracy of the negative class. The G-mean seeks a balance of these scores,\n",
    "the geometric mean, where poor performance for one or the other results in a low G-mean score. We can calculate the G-mean for a set of predictions made by a model using the geometric mean score() function provided by the imbalanced-learn\n",
    "library. First, we can define a function to load the dataset and split the columns into input and\n",
    "output variables. We will also drop column 22 because the column contains a single value, and\n",
    "the first column that defines the image patch number. The ``load_dataset()`` function below\n",
    "implements this."
   ]
  },
  {
   "cell_type": "code",
   "execution_count": 15,
   "metadata": {},
   "outputs": [],
   "source": [
    "# load the dataset\n",
    "def load_dataset(full_path):\n",
    "    # load the dataset as a numpy array\n",
    "    data = read_csv(full_path, header=None)\n",
    "    # drop unused columns\n",
    "    data.drop(22, axis=1, inplace=True)\n",
    "    data.drop(0, axis=1, inplace=True)\n",
    "    # retrieve numpy array\n",
    "    data = data.values\n",
    "    # split into input and output elements\n",
    "    X, y = data[:, :-1], data[:, -1]\n",
    "    # label encode the target variable to have the classes 0 and 1\n",
    "    y = LabelEncoder().fit_transform(y)\n",
    "    return X, y"
   ]
  },
  {
   "cell_type": "markdown",
   "metadata": {},
   "source": [
    "We can then define a function that will evaluate a given model on the dataset and return a list\n",
    "of G-mean scores for each fold and repeat. The ``evaluate_model()`` function below implements\n",
    "this, taking the dataset and model as arguments and returning the list of scores."
   ]
  },
  {
   "cell_type": "code",
   "execution_count": 3,
   "metadata": {},
   "outputs": [],
   "source": [
    "# evaluate a model\n",
    "def evaluate_model(X, y, model):\n",
    "    # define evaluation procedure\n",
    "    cv = RepeatedStratifiedKFold(n_splits=10, n_repeats=3, random_state=1)\n",
    "    # define the model evaluation the metric\n",
    "    metric = make_scorer(geometric_mean_score)\n",
    "    # evaluate model\n",
    "    scores = cross_val_score(model, X, y, scoring=metric, cv=cv, n_jobs=-1)\n",
    "    return scores"
   ]
  },
  {
   "cell_type": "markdown",
   "metadata": {},
   "source": [
    "Finally, we can evaluate a baseline model on the dataset using this test harness. A model that\n",
    "predicts the majority class label (0) or the minority class label (1) for all cases will result in a\n",
    "G-mean of zero. As such, a good default strategy would be to randomly predict one class label or\n",
    "another with a 50% probability and aim for a G-mean of about 0.5. This can be achieved using the DummyClassifier class from the scikit-learn library and setting the strategy argument to\n",
    "``uniform``."
   ]
  },
  {
   "cell_type": "code",
   "execution_count": 36,
   "metadata": {},
   "outputs": [],
   "source": [
    "# define the reference model\n",
    "model = DummyClassifier(strategy='uniform')"
   ]
  },
  {
   "cell_type": "markdown",
   "metadata": {},
   "source": [
    "Once the model is evaluated, we can report the mean and standard deviation of the G-mean\n",
    "scores directly."
   ]
  },
  {
   "cell_type": "code",
   "execution_count": 37,
   "metadata": {},
   "outputs": [],
   "source": [
    "# define the location of the dataset\n",
    "full_path = 'oil-spill.csv'"
   ]
  },
  {
   "cell_type": "code",
   "execution_count": 38,
   "metadata": {},
   "outputs": [],
   "source": [
    "# load the dataset\n",
    "X, y = load_dataset(full_path)"
   ]
  },
  {
   "cell_type": "code",
   "execution_count": 41,
   "metadata": {},
   "outputs": [
    {
     "name": "stdout",
     "output_type": "stream",
     "text": [
      "Mean G-mean: 0.461 (0.134)\n"
     ]
    }
   ],
   "source": [
    "# evaluate the model\n",
    "scores = evaluate_model(X, y, model)\n",
    "# summarize performance\n",
    "print('Mean G-mean: %.3f (%.3f)' % (mean(scores), std(scores)))"
   ]
  },
  {
   "cell_type": "markdown",
   "metadata": {},
   "source": [
    "Above code first loads and summarizes the dataset. We can see that we have the\n",
    "correct number of rows loaded, and that we have 47 computer vision derived input variables,\n",
    "with the constant value column (index 22) and the patch number column (index 0) removed.\n",
    "Importantly, we can see that the class labels have the correct mapping to integers with 0 for\n",
    "the majority class and 1 for the minority class, customary for imbalanced binary classification\n",
    "dataset. Next, the average of the G-mean scores is reported."
   ]
  },
  {
   "cell_type": "markdown",
   "metadata": {},
   "source": [
    "In this case, we can see that the baseline algorithm achieves a G-mean of about 0.47, close to\n",
    "the theoretical maximum of 0.5. This score provides a lower limit on model skill; any model that\n",
    "achieves an average G-mean above about 0.47 (or really above 0.5) has skill, whereas models\n",
    "that achieve a score below this value do not have skill on this dataset."
   ]
  },
  {
   "cell_type": "markdown",
   "metadata": {},
   "source": [
    "## Evaluate Models"
   ]
  },
  {
   "cell_type": "markdown",
   "metadata": {},
   "source": [
    "### 1. Evaluate Probabilistic Models"
   ]
  },
  {
   "cell_type": "markdown",
   "metadata": {},
   "source": [
    "Let's start by evaluating some probabilistic models on the dataset. Probabilistic models are\n",
    "those models that are fit on the data under a probabilistic framework and often perform well\n",
    "in general for imbalanced classification datasets. We will evaluate the following probabilistic\n",
    "models with default hyperparameters in the dataset:\n",
    "\n",
    "1. Logistic Regression (LR)\n",
    "\n",
    "2. Linear Discriminant Analysis (LDA)\n",
    "\n",
    "3. Gaussian Naive Bayes (NB)\n",
    "\n",
    "Both LR and LDA are sensitive to the scale of the input variables, and often expect and/or\n",
    "perform better if input variables with different scales are normalized or standardized as a\n",
    "pre-processing step. In this case, we will standardize the dataset prior to fitting each model.\n",
    "This will be achieved using a Pipeline and the StandardScaler class. The use of a Pipeline\n",
    "ensures that the StandardScaler is fit on the training dataset and applied to the train and\n",
    "test sets within each k-fold cross-validation evaluation, avoiding any data leakage that might\n",
    "result in an optimistic result. We can define a function to create the models to evaluate on our\n",
    "test harness as follows:"
   ]
  },
  {
   "cell_type": "code",
   "execution_count": 4,
   "metadata": {},
   "outputs": [],
   "source": [
    "# define models to test\n",
    "def get_models():\n",
    "    models, names = list(), list()\n",
    "    # LR\n",
    "    steps = [('t',StandardScaler()),('m',LogisticRegression(solver='liblinear'))]\n",
    "    models.append(Pipeline(steps=steps))\n",
    "    names.append('LR')\n",
    "    # LDA\n",
    "    steps = [('t', StandardScaler()),('m',LinearDiscriminantAnalysis())]\n",
    "    models.append(Pipeline(steps=steps))\n",
    "    names.append('LDA')\n",
    "    # NB\n",
    "    models.append(GaussianNB())\n",
    "    names.append('NB')\n",
    "    return models, names"
   ]
  },
  {
   "cell_type": "code",
   "execution_count": 7,
   "metadata": {},
   "outputs": [],
   "source": [
    "# define models\n",
    "models, names = get_models()"
   ]
  },
  {
   "cell_type": "markdown",
   "metadata": {},
   "source": [
    "Once defined, we can enumerate the list and evaluate each in turn. The mean and standard\n",
    "deviation of G-mean scores can be printed during evaluation and the sample of scores can be\n",
    "stored. Algorithms can be compared directly based on their mean G-mean score."
   ]
  },
  {
   "cell_type": "code",
   "execution_count": 8,
   "metadata": {},
   "outputs": [
    {
     "name": "stdout",
     "output_type": "stream",
     "text": [
      ">LR 0.672 (0.203)\n",
      ">LDA 0.755 (0.147)\n",
      ">NB 0.707 (0.202)\n"
     ]
    }
   ],
   "source": [
    "# evaluate each model\n",
    "results = list()\n",
    "for i in range(len(models)):\n",
    "    # evaluate the model and store results\n",
    "    scores = evaluate_model(X, y, models[i])\n",
    "    results.append(scores)\n",
    "    # summarize and store\n",
    "    print('>%s %.3f (%.3f)' % (names[i], mean(scores), std(scores)))"
   ]
  },
  {
   "cell_type": "markdown",
   "metadata": {},
   "source": [
    "At the end of the run, we can use the scores to create a box and whisker plot for each\n",
    "algorithm. Creating the plots side by side allows the distributions to be compared both with\n",
    "regard to the mean score, but also the middle 50 percent of the distribution between the 25th\n",
    "and 75th percentiles."
   ]
  },
  {
   "cell_type": "code",
   "execution_count": 9,
   "metadata": {},
   "outputs": [
    {
     "data": {
      "image/png": "[encoded data removed]",
      "text/plain": [
       "<Figure size 432x288 with 1 Axes>"
      ]
     },
     "metadata": {
      "needs_background": "light"
     },
     "output_type": "display_data"
    }
   ],
   "source": [
    "# plot the results\n",
    "pyplot.boxplot(results, labels=names, showmeans=True)\n",
    "pyplot.show()"
   ]
  },
  {
   "cell_type": "markdown",
   "metadata": {},
   "source": [
    "In this case, we can see that each algorithm has\n",
    "skill, achieving a mean G-mean above 0.5. The results suggest that an LDA might be the best\n",
    "performing of the models tested."
   ]
  },
  {
   "cell_type": "markdown",
   "metadata": {},
   "source": [
    "The distribution of the G-mean scores is summarized using a figure with a box and whisker\n",
    "plot for each algorithm. We can see that the distribution for both LDA and NB is compact and skillful and that the LR may have a few results during the run where the method performed\n",
    "poorly, pushing the distribution down. This highlights that it is not just the mean performance,\n",
    "but also the consistency of the model that should be considered when selecting a model."
   ]
  },
  {
   "cell_type": "markdown",
   "metadata": {},
   "source": [
    "### 2. Evaluate Balanced Logistic Regression"
   ]
  },
  {
   "cell_type": "markdown",
   "metadata": {},
   "source": [
    "The logistic regression algorithm supports a modification that adjusts the importance of\n",
    "classification errors to be inversely proportional to the class weighting. This allows the model\n",
    "to better learn the class boundary in favor of the minority class, which might help overall\n",
    "G-mean performance. We can achieve this by setting the ``class_weight`` argument of the\n",
    "``LogisticRegression`` to ``balanced``."
   ]
  },
  {
   "cell_type": "code",
   "execution_count": 42,
   "metadata": {},
   "outputs": [
    {
     "data": {
      "text/plain": [
       "LogisticRegression(C=1.0, class_weight='balanced', dual=False,\n",
       "                   fit_intercept=True, intercept_scaling=1, l1_ratio=None,\n",
       "                   max_iter=100, multi_class='auto', n_jobs=None, penalty='l2',\n",
       "                   random_state=None, solver='liblinear', tol=0.0001, verbose=0,\n",
       "                   warm_start=False)"
      ]
     },
     "execution_count": 42,
     "metadata": {},
     "output_type": "execute_result"
    }
   ],
   "source": [
    "LogisticRegression(solver='liblinear', class_weight='balanced')"
   ]
  },
  {
   "cell_type": "markdown",
   "metadata": {},
   "source": [
    "Logistic regression is sensitive to the scale of input variables and can perform\n",
    "better with normalized or standardized inputs; as such it is a good idea to test both for a given\n",
    "dataset. Additionally, a power distribution can be used to spread out the distribution of each input variable and make those variables with a Gaussian-like distribution more Gaussian. This\n",
    "can benefit models like Logistic Regression that make assumptions about the distribution of\n",
    "input variables."
   ]
  },
  {
   "cell_type": "markdown",
   "metadata": {},
   "source": [
    "The power transform will use the Yeo-Johnson method that supports positive and negative\n",
    "inputs, but we will also normalize data prior to the transform. Also, the ``PowerTransformer``\n",
    "class used for the transform will also standardize each variable after the transform. We will\n",
    "compare a ``LogisticRegression`` with a balanced class weighting to the same algorithm with\n",
    "three difierent data preparation schemes, specifically normalization, standardization, and a\n",
    "power transform."
   ]
  },
  {
   "cell_type": "code",
   "execution_count": 44,
   "metadata": {},
   "outputs": [],
   "source": [
    "# define models to test\n",
    "def get_models():\n",
    "    models, names = list(), list()\n",
    "    # LR Balanced\n",
    "    models.append(LogisticRegression(solver='liblinear', class_weight='balanced'))\n",
    "    names.append('Balanced')\n",
    "    # LR Balanced + Normalization\n",
    "    steps = [('t',MinMaxScaler()), ('m', LogisticRegression(solver='liblinear',\n",
    "    class_weight='balanced'))]\n",
    "    models.append(Pipeline(steps=steps))\n",
    "    names.append('Balanced-Norm')\n",
    "    # LR Balanced + Standardization\n",
    "    steps = [('t',StandardScaler()), ('m', LogisticRegression(solver='liblinear',\n",
    "    class_weight='balanced'))]\n",
    "    models.append(Pipeline(steps=steps))\n",
    "    names.append('Balanced-Std')\n",
    "    # LR Balanced + Power\n",
    "    steps = [('t1',MinMaxScaler()), ('t2',PowerTransformer()), ('m',\n",
    "    LogisticRegression(solver='liblinear', class_weight='balanced'))]\n",
    "    models.append(Pipeline(steps=steps))\n",
    "    names.append('Balanced-Power')\n",
    "    return models, names"
   ]
  },
  {
   "cell_type": "code",
   "execution_count": 49,
   "metadata": {},
   "outputs": [
    {
     "name": "stdout",
     "output_type": "stream",
     "text": [
      ">Balanced 0.843 (0.123)\n",
      ">Balanced-Norm 0.836 (0.088)\n",
      ">Balanced-Std 0.834 (0.129)\n",
      ">Balanced-Power 0.862 (0.124)\n"
     ]
    }
   ],
   "source": [
    "# define models\n",
    "models, names = get_models()\n",
    "# evaluate each model\n",
    "results = list()\n",
    "for i in range(len(models)):\n",
    "    # evaluate the model and store results\n",
    "    scores = evaluate_model(X, y, models[i])\n",
    "    results.append(scores)\n",
    "    # summarize and store\n",
    "    print('>%s %.3f (%.3f)' % (names[i], mean(scores), std(scores)))"
   ]
  },
  {
   "cell_type": "code",
   "execution_count": 50,
   "metadata": {},
   "outputs": [
    {
     "data": {
      "image/png": "[encoded data removed]",
      "text/plain": [
       "<Figure size 432x288 with 1 Axes>"
      ]
     },
     "metadata": {
      "needs_background": "light"
     },
     "output_type": "display_data"
    }
   ],
   "source": [
    "# plot the results\n",
    "pyplot.boxplot(results, labels=names, showmeans=True)\n",
    "pyplot.show()"
   ]
  },
  {
   "cell_type": "markdown",
   "metadata": {},
   "source": [
    "In this case, we can see that the balanced version of logistic regression performs much better\n",
    "than all of the probabilistic models evaluated in the previous section. The results suggest that\n",
    "perhaps the use of balanced LR with data normalization for pre-processing performs the best\n",
    "on this dataset with a mean G-mean score of about 0.852."
   ]
  },
  {
   "cell_type": "markdown",
   "metadata": {},
   "source": [
    "We can see that the distribution for the balanced LR is tighter in\n",
    "general than the non-balanced version in the previous section. We can also see that the median\n",
    "result (orange line) for the normalized version is higher than the mean, above 0.9, which is\n",
    "impressive. A mean different from the median suggests a skewed distribution for the results,\n",
    "pulling the mean down with a few bad outcomes."
   ]
  },
  {
   "cell_type": "markdown",
   "metadata": {},
   "source": [
    "### 3. Evaluate Data Sampling With Probabilistic Models"
   ]
  },
  {
   "cell_type": "markdown",
   "metadata": {},
   "source": [
    "Data sampling provides a way to better prepare the imbalanced training dataset prior to fitting\n",
    "a model. Perhaps the most popular data sampling is the **SMOTE** oversampling technique for\n",
    "creating new synthetic examples for the minority class. This can be paired with the edited\n",
    "nearest neighbor (ENN) algorithm that will locate and remove examples from the dataset that\n",
    "are ambiguous, making it easier for models to learn to discriminate between the two classes.\n",
    "This combination is called **SMOTE-ENN** and can be implemented using the ``SMOTEENN`` class\n",
    "from the imbalanced-learn library; for example:"
   ]
  },
  {
   "cell_type": "code",
   "execution_count": 54,
   "metadata": {},
   "outputs": [],
   "source": [
    "# define SMOTE-ENN data sampling method\n",
    "e = SMOTEENN(enn=EditedNearestNeighbours(sampling_strategy='majority'))"
   ]
  },
  {
   "cell_type": "markdown",
   "metadata": {},
   "source": [
    "**SMOTE** and **ENN**\n",
    "both work better when the input data is scaled beforehand. This\n",
    "is because both techniques involve using the nearest neighbor algorithm internally and this\n",
    "algorithm is sensitive to input variables with different scales. Therefore, we will require the data to be normalized as a first step, then sampled, then used as input to the (unbalanced) logistic\n",
    "regression model. As such, we can use the Pipeline class provided by the imbalanced-learn\n",
    "library to create a sequence of data transforms including the data sampling method, and ending\n",
    "with the logistic regression model. We will compare four variations of the logistic regression\n",
    "model with data sampling, specifically:\n",
    "\n",
    "i. SMOTEENN + LR\n",
    "\n",
    "ii. Normalization + SMOTEENN + LR\n",
    "\n",
    "iii. Standardization + SMOTEENN + LR\n",
    "\n",
    "iv. Normalization + Power + SMOTEENN + LR\n",
    "\n",
    "The expectation is that LR will perform better with SMOTEENN, and that SMOTEENN\n",
    "will perform better with standardization or normalization. The last case does a lot, first\n",
    "normalizing the dataset, then applying the power transform, standardizing the result (the PowerTransformer class will standardize the output by default), applying SMOTEENN,\n",
    "then finally fitting a logistic regression model. These combinations can be defined as follows:\n",
    "\n"
   ]
  },
  {
   "cell_type": "code",
   "execution_count": 63,
   "metadata": {},
   "outputs": [],
   "source": [
    "# define models to test\n",
    "def get_models():\n",
    "    models, names = list(), list()\n",
    "    # SMOTEENN\n",
    "    sampling = SMOTEENN(enn=EditedNearestNeighbours(sampling_strategy='majority'))\n",
    "    model = LogisticRegression(solver='liblinear')\n",
    "    steps = [('e', sampling), ('m', model)]\n",
    "    models.append(Pipeline(steps=steps))\n",
    "    names.append('LR')\n",
    "    # SMOTEENN + Norm\n",
    "    sampling = SMOTEENN(enn=EditedNearestNeighbours(sampling_strategy='majority'))\n",
    "    model = LogisticRegression(solver='liblinear')\n",
    "    steps = [('t', MinMaxScaler()), ('e', sampling), ('m', model)]\n",
    "    models.append(Pipeline(steps=steps))\n",
    "    names.append('Norm')\n",
    "    # SMOTEENN + Std\n",
    "    sampling = SMOTEENN(enn=EditedNearestNeighbours(sampling_strategy='majority'))\n",
    "    model = LogisticRegression(solver='liblinear')\n",
    "    steps = [('t', StandardScaler()), ('e', sampling), ('m', model)]\n",
    "    models.append(Pipeline(steps=steps))\n",
    "    names.append('Std')\n",
    "    # SMOTEENN + Power\n",
    "    sampling = SMOTEENN(enn=EditedNearestNeighbours(sampling_strategy='majority'))\n",
    "    model = LogisticRegression(solver='liblinear')\n",
    "    steps = [('t1', MinMaxScaler()), ('t2', PowerTransformer()), ('e', sampling), ('m',\n",
    "    model)]\n",
    "    models.append(Pipeline(steps=steps))\n",
    "    names.append('Power')\n",
    "    return models, names"
   ]
  },
  {
   "cell_type": "code",
   "execution_count": 66,
   "metadata": {},
   "outputs": [
    {
     "name": "stdout",
     "output_type": "stream",
     "text": [
      ">LR 0.862 (0.094)\n",
      ">Norm 0.829 (0.089)\n",
      ">Std 0.830 (0.122)\n",
      ">Power 0.883 (0.121)\n"
     ]
    }
   ],
   "source": [
    "# define models\n",
    "models, names = get_models()\n",
    "# evaluate each model\n",
    "results = list()\n",
    "for i in range(len(models)):\n",
    "    # evaluate the model and store results\n",
    "    scores = evaluate_model(X, y, models[i])\n",
    "    # summarize and store\n",
    "    print('>%s %.3f (%.3f)' % (names[i], mean(scores), std(scores)))\n",
    "    results.append(scores)"
   ]
  },
  {
   "cell_type": "code",
   "execution_count": 67,
   "metadata": {},
   "outputs": [
    {
     "data": {
      "image/png": "[encoded data removed]",
      "text/plain": [
       "<Figure size 432x288 with 1 Axes>"
      ]
     },
     "metadata": {
      "needs_background": "light"
     },
     "output_type": "display_data"
    }
   ],
   "source": [
    "# plot the results\n",
    "pyplot.boxplot(results, labels=names, showmeans=True)\n",
    "pyplot.show()"
   ]
  },
  {
   "cell_type": "markdown",
   "metadata": {},
   "source": [
    "In this case, we can see that the addition of SMOTEENN improves the performance of the\n",
    "default LR algorithm, achieving a mean G-mean of 0.852 compared to 0.621 seen in the \f",
    "rst\n",
    "set of experimental results. This is even better than balanced LR without any data scaling\n",
    "(previous section) that achieved a G-mean of about 0.846.\n",
    "\n",
    "The results suggest that perhaps the final combination of normalization, power transform,\n",
    "and standardization achieves a slightly better score than the default LR with SMOTEENN with\n",
    "a G-mean of about 0.873."
   ]
  },
  {
   "cell_type": "markdown",
   "metadata": {},
   "source": [
    "The distribution of results can be compared with box and whisker plots. We can see the\n",
    "distributions all roughly have the same tight spread and that the difference in means of the\n",
    "results can be used to select a model."
   ]
  },
  {
   "cell_type": "markdown",
   "metadata": {},
   "source": [
    "## Make Prediction on New Data"
   ]
  },
  {
   "cell_type": "markdown",
   "metadata": {},
   "source": [
    "The use of SMOTEENN with Logistic Regression directly without any data scaling probably\n",
    "provides the simplest and well-performing model that could be used going forward. This model\n",
    "had a mean G-mean of about 0.852 on our test harness. We will use this as our final model and\n",
    "use it to make predictions on new data. First, we can define the model as a pipeline."
   ]
  },
  {
   "cell_type": "code",
   "execution_count": 70,
   "metadata": {},
   "outputs": [],
   "source": [
    "# define the model\n",
    "smoteenn = SMOTEENN(enn=EditedNearestNeighbours(sampling_strategy='majority'))\n",
    "model = LogisticRegression(solver='liblinear')\n",
    "pipeline = Pipeline(steps=[('e', smoteenn), ('m', model)])"
   ]
  },
  {
   "cell_type": "code",
   "execution_count": 80,
   "metadata": {},
   "outputs": [
    {
     "data": {
      "text/html": [
       "<div>\n",
       "<style scoped>\n",
       "    .dataframe tbody tr th:only-of-type {\n",
       "        vertical-align: middle;\n",
       "    }\n",
       "\n",
       "    .dataframe tbody tr th {\n",
       "        vertical-align: top;\n",
       "    }\n",
       "\n",
       "    .dataframe thead th {\n",
       "        text-align: right;\n",
       "    }\n",
       "</style>\n",
       "<table border=\"1\" class=\"dataframe\">\n",
       "  <thead>\n",
       "    <tr style=\"text-align: right;\">\n",
       "      <th></th>\n",
       "      <th>0</th>\n",
       "      <th>1</th>\n",
       "      <th>2</th>\n",
       "      <th>3</th>\n",
       "      <th>4</th>\n",
       "      <th>5</th>\n",
       "      <th>6</th>\n",
       "      <th>7</th>\n",
       "      <th>8</th>\n",
       "      <th>9</th>\n",
       "      <th>...</th>\n",
       "      <th>38</th>\n",
       "      <th>39</th>\n",
       "      <th>40</th>\n",
       "      <th>41</th>\n",
       "      <th>42</th>\n",
       "      <th>43</th>\n",
       "      <th>44</th>\n",
       "      <th>45</th>\n",
       "      <th>46</th>\n",
       "      <th>47</th>\n",
       "    </tr>\n",
       "  </thead>\n",
       "  <tbody>\n",
       "    <tr>\n",
       "      <td>0</td>\n",
       "      <td>329</td>\n",
       "      <td>1627.54</td>\n",
       "      <td>1409.43</td>\n",
       "      <td>51</td>\n",
       "      <td>822500</td>\n",
       "      <td>35.00</td>\n",
       "      <td>6.10</td>\n",
       "      <td>4610</td>\n",
       "      <td>0.17</td>\n",
       "      <td>178.4</td>\n",
       "      <td>...</td>\n",
       "      <td>55</td>\n",
       "      <td>1460.31</td>\n",
       "      <td>710.63</td>\n",
       "      <td>451.78</td>\n",
       "      <td>150.85</td>\n",
       "      <td>3.23</td>\n",
       "      <td>0</td>\n",
       "      <td>4530.75</td>\n",
       "      <td>66.25</td>\n",
       "      <td>7.85</td>\n",
       "    </tr>\n",
       "    <tr>\n",
       "      <td>1</td>\n",
       "      <td>3234</td>\n",
       "      <td>1091.56</td>\n",
       "      <td>1357.96</td>\n",
       "      <td>32</td>\n",
       "      <td>8085000</td>\n",
       "      <td>40.08</td>\n",
       "      <td>8.98</td>\n",
       "      <td>25450</td>\n",
       "      <td>0.22</td>\n",
       "      <td>317.7</td>\n",
       "      <td>...</td>\n",
       "      <td>55</td>\n",
       "      <td>4287.77</td>\n",
       "      <td>3095.56</td>\n",
       "      <td>1937.42</td>\n",
       "      <td>773.69</td>\n",
       "      <td>2.21</td>\n",
       "      <td>0</td>\n",
       "      <td>4927.51</td>\n",
       "      <td>66.15</td>\n",
       "      <td>7.24</td>\n",
       "    </tr>\n",
       "    <tr>\n",
       "      <td>2</td>\n",
       "      <td>2339</td>\n",
       "      <td>1537.68</td>\n",
       "      <td>1633.02</td>\n",
       "      <td>45</td>\n",
       "      <td>5847500</td>\n",
       "      <td>38.13</td>\n",
       "      <td>9.29</td>\n",
       "      <td>22110</td>\n",
       "      <td>0.24</td>\n",
       "      <td>264.5</td>\n",
       "      <td>...</td>\n",
       "      <td>55</td>\n",
       "      <td>3959.80</td>\n",
       "      <td>2404.16</td>\n",
       "      <td>1530.38</td>\n",
       "      <td>659.67</td>\n",
       "      <td>2.59</td>\n",
       "      <td>0</td>\n",
       "      <td>4732.04</td>\n",
       "      <td>66.34</td>\n",
       "      <td>7.67</td>\n",
       "    </tr>\n",
       "  </tbody>\n",
       "</table>\n",
       "<p>3 rows × 48 columns</p>\n",
       "</div>"
      ],
      "text/plain": [
       "     0        1        2   3        4      5     6      7     8      9   ...  \\\n",
       "0   329  1627.54  1409.43  51   822500  35.00  6.10   4610  0.17  178.4  ...   \n",
       "1  3234  1091.56  1357.96  32  8085000  40.08  8.98  25450  0.22  317.7  ...   \n",
       "2  2339  1537.68  1633.02  45  5847500  38.13  9.29  22110  0.24  264.5  ...   \n",
       "\n",
       "   38       39       40       41      42    43  44       45     46    47  \n",
       "0  55  1460.31   710.63   451.78  150.85  3.23   0  4530.75  66.25  7.85  \n",
       "1  55  4287.77  3095.56  1937.42  773.69  2.21   0  4927.51  66.15  7.24  \n",
       "2  55  3959.80  2404.16  1530.38  659.67  2.59   0  4732.04  66.34  7.67  \n",
       "\n",
       "[3 rows x 48 columns]"
      ]
     },
     "execution_count": 80,
     "metadata": {},
     "output_type": "execute_result"
    }
   ],
   "source": [
    "import pandas as pd\n",
    "pd.DataFrame(data)\n"
   ]
  },
  {
   "cell_type": "markdown",
   "metadata": {},
   "source": [
    "Once fit, we can use it to make predictions for new data by calling the ``predict()`` function.\n",
    "This will return the class label of 0 for no oil spill, or 1 for an oil spill. For example:"
   ]
  },
  {
   "cell_type": "code",
   "execution_count": 81,
   "metadata": {},
   "outputs": [
    {
     "name": "stdout",
     "output_type": "stream",
     "text": [
      "Non-Spill Cases:\n",
      ">Predicted=0 (expected 0)\n",
      ">Predicted=0 (expected 0)\n",
      ">Predicted=0 (expected 0)\n"
     ]
    }
   ],
   "source": [
    "# evaluate on some non-spill cases (known class 0)\n",
    "print('Non-Spill Cases:')\n",
    "data = [[1627.54, 1409.43, 51, 822500, 35, 6.1, 4610, 0.17, 178.4, 0.2, 0.24, 0.39,\n",
    "0.12, 0.27, 138.32, 34.81, 2.02, 0.14, 0.19, 75.26, 0, 0.47, 351.67, 0.18, 9.24, 0.38,\n",
    "2.57, -2.96, -0.28, 1.93, 0, 1.93, 34, 1710, 0, 25.84, 78, 55, 1460.31, 710.63, 451.78,\n",
    "150.85, 3.23, 0, 4530.75, 66.25, 7.85],\n",
    "[1091.56, 1357.96, 32, 8085000, 40.08, 8.98, 25450, 0.22, 317.7, 0.18, 0.2, 0.49,\n",
    "0.09, 0.41, 114.69, 41.87, 2.31, 0.15, 0.18, 75.26, 0, 0.53, 351.67, 0.18, 9.24,\n",
    "0.24, 3.56, -3.09, -0.31, 2.17, 0, 2.17, 281, 14490, 0, 80.11, 78, 55, 4287.77,\n",
    "3095.56, 1937.42, 773.69, 2.21, 0, 4927.51, 66.15, 7.24],\n",
    "[1537.68, 1633.02, 45, 5847500, 38.13, 9.29, 22110, 0.24, 264.5, 0.21, 0.26, 0.79,\n",
    "0.08, 0.71, 89.49, 32.23, 2.2, 0.17, 0.22, 75.26, 0, 0.51, 351.67, 0.18, 9.24, 0.27,\n",
    "4.21, -2.84, -0.29, 2.16, 0, 2.16, 228, 12150, 0, 83.6, 78, 55, 3959.8, 2404.16,\n",
    "1530.38, 659.67, 2.59, 0, 4732.04, 66.34, 7.67]]\n",
    "\n",
    "for row in data:\n",
    "    # make prediction\n",
    "    yhat = pipeline.predict([row])\n",
    "    # get the label\n",
    "    label = yhat[0]\n",
    "    # summarize\n",
    "    print('>Predicted=%d (expected 0)' % (label))"
   ]
  },
  {
   "cell_type": "code",
   "execution_count": 85,
   "metadata": {},
   "outputs": [
    {
     "name": "stdout",
     "output_type": "stream",
     "text": [
      "Spill Cases:\n",
      ">Predicted=0 (expected 1)\n",
      ">Predicted=0 (expected 1)\n",
      ">Predicted=0 (expected 1)\n"
     ]
    }
   ],
   "source": [
    "print('Spill Cases:')\n",
    "data = [[1020.91, 630.8, 59, 7427500, 32.76, 10.48, 17380, 0.32, 427.4, 0.22, 0.29,\n",
    "0.5, 0.08, 0.42, 149.87, 50.99, 1.89, 0.14, 0.18, 75.26, 0, 0.44, 351.67, 0.18, 9.24,\n",
    "2.5, 10.63, -3.07, -0.28, 2.18, 0, 2.18, 164, 8730, 0, 40.67, 78, 55, 5650.88, 1749.29,\n",
    "1245.07, 348.7, 4.54, 0, 25579.34, 65.78, 7.41],\n",
    "[1118.08, 469.39, 11, 7887500, 30.41, 7.99, 15880, 0.26, 496.7, 0.2, 0.26, 0.69,\n",
    "0.11, 0.58, 118.11, 43.96, 1.76, 0.15, 0.18, 75.26, 0, 0.4, 351.67, 0.18, 9.24, 0.78,\n",
    "8.68, -3.19, -0.33, 2.19, 0, 2.19, 150, 8100, 0, 31.97, 78, 55, 3471.31, 3059.41,\n",
    "2043.9, 477.23, 1.7, 0, 28172.07, 65.72, 7.58],\n",
    "[1449.85, 608.43, 88, 287500, 40.42, 7.34, 3340, 0.18, 86.1, 0.21, 0.32, 0.5, 0.17,\n",
    "0.34, 71.2, 16.73, 1.82, 0.19, 0.29, 87.65, 0, 0.46, 132.78, -0.01, 3.78, 0.7, 4.79,\n",
    "-3.36, -0.23, 1.95, 0, 1.95, 29, 1530, 0.01, 38.8, 89, 69, 1400, 250, 150, 45.13,\n",
    "9.33, 1, 31692.84, 65.81, 7.84]]\n",
    "for row in data:\n",
    "    # make prediction\n",
    "    yhat = pipeline.predict([row])\n",
    "    # get the label\n",
    "    label = yhat[0]\n",
    "    # summarize\n",
    "    print('>Predicted=%d (expected 1)' % (label))"
   ]
  },
  {
   "cell_type": "markdown",
   "metadata": {},
   "source": [
    "Running the example first fits the model on the entire training dataset. Then the fit model\n",
    "used to predict the label of an oil spill for cases where we know there is none, chosen from the\n",
    "dataset file. We can see that all cases are correctly predicted. Then some cases of actual oil\n",
    "spills are used as input to the model and the label is predicted. As we might have hoped, the\n",
    "correct labels are again predicted."
   ]
  }
 ],
 "metadata": {
  "kernelspec": {
   "display_name": "Python 3",
   "language": "python",
   "name": "python3"
  },
  "language_info": {
   "codemirror_mode": {
    "name": "ipython",
    "version": 3
   },
   "file_extension": ".py",
   "mimetype": "text/x-python",
   "name": "python",
   "nbconvert_exporter": "python",
   "pygments_lexer": "ipython3",
   "version": "3.7.4"
  }
 },
 "nbformat": 4,
 "nbformat_minor": 2
}
